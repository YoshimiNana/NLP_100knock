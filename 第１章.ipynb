{
  "nbformat": 4,
  "nbformat_minor": 0,
  "metadata": {
    "colab": {
      "name": "第１章.ipynb",
      "provenance": [],
      "authorship_tag": "ABX9TyMXsBlK2pf19WooOwxR3A6b",
      "include_colab_link": true
    },
    "kernelspec": {
      "name": "python3",
      "display_name": "Python 3"
    },
    "language_info": {
      "name": "python"
    }
  },
  "cells": [
    {
      "cell_type": "markdown",
      "metadata": {
        "id": "view-in-github",
        "colab_type": "text"
      },
      "source": [
        "<a href=\"https://colab.research.google.com/github/YoshimiNana/NLP_100knock/blob/review/%E7%AC%AC%EF%BC%91%E7%AB%A0.ipynb\" target=\"_parent\"><img src=\"https://colab.research.google.com/assets/colab-badge.svg\" alt=\"Open In Colab\"/></a>"
      ]
    },
    {
      "cell_type": "markdown",
      "metadata": {
        "id": "RGwvr4VybZjl"
      },
      "source": [
        "00.py"
      ]
    },
    {
      "cell_type": "code",
      "metadata": {
        "colab": {
          "base_uri": "https://localhost:8080/"
        },
        "id": "oWfz9TGnbYOz",
        "outputId": "2b24a2db-d448-4fb4-b2c3-80397c93eff8"
      },
      "source": [
        "str = \"stressed\"\n",
        "reverse = str[::-1]\n",
        "print(reverse)"
      ],
      "execution_count": 1,
      "outputs": [
        {
          "output_type": "stream",
          "name": "stdout",
          "text": [
            "desserts\n"
          ]
        }
      ]
    },
    {
      "cell_type": "markdown",
      "metadata": {
        "id": "G2gY0rZdbt-X"
      },
      "source": [
        "01.py"
      ]
    },
    {
      "cell_type": "code",
      "metadata": {
        "colab": {
          "base_uri": "https://localhost:8080/"
        },
        "id": "zcZTZhBcbh2z",
        "outputId": "0e7e85b3-a23f-4e48-d056-205b853be299"
      },
      "source": [
        "str = \"パタトクカシー\"\n",
        "str2 = str[::2]\n",
        "print(str2)"
      ],
      "execution_count": 2,
      "outputs": [
        {
          "output_type": "stream",
          "name": "stdout",
          "text": [
            "パトカー\n"
          ]
        }
      ]
    },
    {
      "cell_type": "markdown",
      "metadata": {
        "id": "VnW3syU-bwLu"
      },
      "source": [
        "02.py"
      ]
    },
    {
      "cell_type": "code",
      "metadata": {
        "colab": {
          "base_uri": "https://localhost:8080/"
        },
        "id": "gVRw1B3jb1aQ",
        "outputId": "a64f77e1-2cd3-4430-dbe4-4ba0bdd74260"
      },
      "source": [
        "str1 = \"パトカー\"\n",
        "str2 = \"タクシー\"\n",
        "\n",
        "str = \"\".join([i+j for i,j in zip(str1,str2)])\n",
        "print(str)"
      ],
      "execution_count": 3,
      "outputs": [
        {
          "output_type": "stream",
          "name": "stdout",
          "text": [
            "パタトクカシーー\n"
          ]
        }
      ]
    },
    {
      "cell_type": "markdown",
      "metadata": {
        "id": "FBFbjU4qbxsY"
      },
      "source": [
        "03.py"
      ]
    },
    {
      "cell_type": "code",
      "metadata": {
        "colab": {
          "base_uri": "https://localhost:8080/"
        },
        "id": "JJUaRIcqb10l",
        "outputId": "346e2fcd-062b-4f28-a26d-96ad9fc86028"
      },
      "source": [
        "str = \"Now I need a drink, alcoholic of course, after the heavy lectures involving quantum mechanics.\"\n",
        "\n",
        "import re\n",
        "str = re.sub(\"[\\.,]\", \"\", str)\n",
        "split = str.split()\n",
        "\n",
        "num_alphabet = [len(i) for i in split]\n",
        "print(num_alphabet)"
      ],
      "execution_count": 4,
      "outputs": [
        {
          "output_type": "stream",
          "name": "stdout",
          "text": [
            "[3, 1, 4, 1, 5, 9, 2, 6, 5, 3, 5, 8, 9, 7, 9]\n"
          ]
        }
      ]
    },
    {
      "cell_type": "markdown",
      "metadata": {
        "id": "jrVmc_9Abypb"
      },
      "source": [
        "04.py"
      ]
    },
    {
      "cell_type": "code",
      "metadata": {
        "colab": {
          "base_uri": "https://localhost:8080/"
        },
        "id": "0GXug6lucHmG",
        "outputId": "5f9c7975-c699-451f-cd6d-0a788edca56e"
      },
      "source": [
        "str = \"Hi He Lied Because Boron Could Not Oxidize Fluorine. New Nations Might Also Sign Peace Security Clause. Arthur King Can.\"\n",
        "str = str.split()\n",
        "\n",
        "select_list = [1, 5, 6, 7, 8, 9, 15, 16, 19]\n",
        "\n",
        "dict = {}\n",
        "for i, word in enumerate(str):\n",
        "    if i + 1 in select_list:\n",
        "      dict[word[:1]] = i + 1\n",
        "    else:\n",
        "      dict[word[:2]] = i + 1\n",
        "\n",
        "print(dict)"
      ],
      "execution_count": 11,
      "outputs": [
        {
          "output_type": "stream",
          "name": "stdout",
          "text": [
            "{'H': 1, 'He': 2, 'Li': 3, 'Be': 4, 'B': 5, 'C': 6, 'N': 7, 'O': 8, 'F': 9, 'Ne': 10, 'Na': 11, 'Mi': 12, 'Al': 13, 'Si': 14, 'P': 15, 'S': 16, 'Cl': 17, 'Ar': 18, 'K': 19, 'Ca': 20}\n"
          ]
        }
      ]
    },
    {
      "cell_type": "markdown",
      "metadata": {
        "id": "qhsiVMv6bz7D"
      },
      "source": [
        "05.py"
      ]
    },
    {
      "cell_type": "code",
      "metadata": {
        "colab": {
          "base_uri": "https://localhost:8080/"
        },
        "id": "o6vA0MBRcdZ0",
        "outputId": "998bb58f-a62e-4f51-b41f-be5867db9ebe"
      },
      "source": [
        "def ngram(str, n):\n",
        "     ngram = []\n",
        "     for i in range(len(str) - n + 1):\n",
        "         ngram.append(str[i:i+n])\n",
        "     return ngram\n",
        "\n",
        "str = \"I am an NLPer\"\n",
        "print(\"単語bi-gram:\", ngram(str.split(), 2))\n",
        "print(\"文字bi-gram:\", ngram(str, 2))"
      ],
      "execution_count": 10,
      "outputs": [
        {
          "output_type": "stream",
          "name": "stdout",
          "text": [
            "単語bi-gram: [['I', 'am'], ['am', 'an'], ['an', 'NLPer']]\n",
            "文字bi-gram: ['I ', ' a', 'am', 'm ', ' a', 'an', 'n ', ' N', 'NL', 'LP', 'Pe', 'er']\n"
          ]
        }
      ]
    },
    {
      "cell_type": "markdown",
      "metadata": {
        "id": "g07vUTWqcxjk"
      },
      "source": [
        "06.py"
      ]
    },
    {
      "cell_type": "code",
      "metadata": {
        "colab": {
          "base_uri": "https://localhost:8080/"
        },
        "id": "PD7GGhlOcxSt",
        "outputId": "08750b51-f942-4a4d-84ba-d3ab9916e01a"
      },
      "source": [
        "def ngram(str, n):\n",
        "     ngram = []\n",
        "     for i in range(len(str) - n + 1):\n",
        "         ngram.append(str[i:i+n])\n",
        "     return ngram\n",
        "\n",
        "str1 = \"paraparaparadise\"\n",
        "str2 = \"paragraph\"\n",
        "X = set(ngram(str1, 2))\n",
        "Y = set(ngram(str2, 2))\n",
        "\n",
        "print(\"和集合:\", X | Y)\n",
        "print(\"積集合:\", X & Y)\n",
        "print(\"差集合:\", X - Y)\n",
        "print(\"Xにseが含まれる:\", \"se\" in X)\n",
        "print(\"Yにseが含まれる:\", \"se\" in Y)"
      ],
      "execution_count": 12,
      "outputs": [
        {
          "output_type": "stream",
          "name": "stdout",
          "text": [
            "和集合: {'ap', 'gr', 'ph', 'ar', 'di', 'pa', 'is', 'se', 'ad', 'ag', 'ra'}\n",
            "積集合: {'ap', 'pa', 'ra', 'ar'}\n",
            "差集合: {'se', 'is', 'ad', 'di'}\n",
            "Xにseが含まれる: True\n",
            "Yにseが含まれる: False\n"
          ]
        }
      ]
    },
    {
      "cell_type": "markdown",
      "metadata": {
        "id": "H-yeqlYbc41T"
      },
      "source": [
        "07.py"
      ]
    },
    {
      "cell_type": "code",
      "metadata": {
        "colab": {
          "base_uri": "https://localhost:8080/"
        },
        "id": "HlC_D9Wtc7W0",
        "outputId": "bd4535f7-ba20-45a9-dba8-eb50e25aad95"
      },
      "source": [
        "def sentence_generator(x, y, z):\n",
        "     print(\"{}時の{}は{}\".format(x, y, z))\n",
        "\n",
        "sentence_generator(12, \"気温\", 22.4)"
      ],
      "execution_count": 13,
      "outputs": [
        {
          "output_type": "stream",
          "name": "stdout",
          "text": [
            "12時の気温は22.4\n"
          ]
        }
      ]
    },
    {
      "cell_type": "markdown",
      "metadata": {
        "id": "QtdakFzhc9wA"
      },
      "source": [
        "08.py"
      ]
    },
    {
      "cell_type": "code",
      "metadata": {
        "colab": {
          "base_uri": "https://localhost:8080/"
        },
        "id": "WIAfC2wnc9XN",
        "outputId": "895e1997-5642-42e7-c0b1-3003a52c2ba5"
      },
      "source": [
        "def cipher(str):\n",
        "     change = [chr(219-ord(s)) if s.islower() else s for s in str]\n",
        "     return \"\".join(change)\n",
        "\n",
        "str = \"There must be a beginning of any great matter\"\n",
        "code = cipher(str)\n",
        "print(\"暗号化:\", code)\n",
        "print(\"復号化:\", cipher(code))"
      ],
      "execution_count": 14,
      "outputs": [
        {
          "output_type": "stream",
          "name": "stdout",
          "text": [
            "暗号化: Tsviv nfhg yv z yvtrmmrmt lu zmb tivzg nzggvi\n",
            "復号化: There must be a beginning of any great matter\n"
          ]
        }
      ]
    },
    {
      "cell_type": "markdown",
      "metadata": {
        "id": "uViPCc-1dDxO"
      },
      "source": [
        "09.py"
      ]
    },
    {
      "cell_type": "code",
      "metadata": {
        "colab": {
          "base_uri": "https://localhost:8080/"
        },
        "id": "4nTqOZIOdDbt",
        "outputId": "4c87c6a7-27af-4cf5-f048-40280caf428c"
      },
      "source": [
        "import random\n",
        "str = \"I couldn’t believe that I could actually understand what I was reading : the phenomenal power of the human mind .\"\n",
        "\n",
        "shuffle = []\n",
        "for str in str.split():\n",
        "  if len(str) > 4:\n",
        "    str = str[0] + \"\".join(random.sample(str[1:-1], len(str) - 2)) + str[-1]\n",
        "    shuffle.append(str)\n",
        "\n",
        "print(\" \".join(shuffle))"
      ],
      "execution_count": 18,
      "outputs": [
        {
          "output_type": "stream",
          "name": "stdout",
          "text": [
            "c’noludt believe cloud alluctay utnreasdnd rdeiang pnoeamhenl power huamn\n"
          ]
        }
      ]
    }
  ]
}